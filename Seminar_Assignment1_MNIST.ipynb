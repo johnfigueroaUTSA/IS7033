{
 "cells": [
  {
   "cell_type": "markdown",
   "metadata": {},
   "source": [
    "# This is my attempt on performing a basic CNN model on the MNIST data."
   ]
  },
  {
   "cell_type": "markdown",
   "metadata": {},
   "source": [
    "John Figueroa\n",
    "IS 7033"
   ]
  },
  {
   "cell_type": "markdown",
   "metadata": {},
   "source": [
    "The purpose of this code is to be introduced to using PyTorch and get some decent results with a very common dataset (the MNIST dataset).\n",
    "\n",
    "Code was written based off https://nextjournal.com/gkoehler/pytorch-mnist "
   ]
  },
  {
   "cell_type": "code",
   "execution_count": null,
   "metadata": {},
   "outputs": [],
   "source": [
    "import torch\n",
    "import torchvision\n",
    "import torch.nn as nn"
   ]
  },
  {
   "cell_type": "markdown",
   "metadata": {},
   "source": [
    "Importing the data and spliting into test/train"
   ]
  },
  {
   "cell_type": "code",
   "execution_count": 2,
   "metadata": {},
   "outputs": [],
   "source": [
    "mnist = torchvision.datasets.MNIST('/files/', download=True)\n",
    "mnist_train = torchvision.datasets.MNIST('/files/', train=True, download=True)\n",
    "mnist_test = torchvision.datasets.MNIST('/files/', train=False, download=True)"
   ]
  },
  {
   "cell_type": "markdown",
   "metadata": {},
   "source": [
    "Defining the Hyperparameters"
   ]
  },
  {
   "cell_type": "code",
   "execution_count": 17,
   "metadata": {},
   "outputs": [
    {
     "data": {
      "text/plain": [
       "<torch._C.Generator at 0x21aab395f30>"
      ]
     },
     "execution_count": 17,
     "metadata": {},
     "output_type": "execute_result"
    }
   ],
   "source": [
    "random_seed = 1\n",
    "epochs = 10\n",
    "learning_rate = 0.1\n",
    "batch_size_train = 100\n",
    "batch_size_test = 100\n",
    "momentum = 0.5\n",
    "log_interval = 10\n",
    "display_step = 50\n",
    "torch.backends.cudnn.enabled = False\n",
    "torch.manual_seed(random_seed)"
   ]
  },
  {
   "cell_type": "markdown",
   "metadata": {},
   "source": [
    "Creating the training & test model function"
   ]
  },
  {
   "cell_type": "code",
   "execution_count": 18,
   "metadata": {},
   "outputs": [],
   "source": [
    "train_loader = torch.utils.data.DataLoader(\n",
    "  torchvision.datasets.MNIST('/files/', train=True, download=True,\n",
    "                             transform=torchvision.transforms.Compose([\n",
    "                               torchvision.transforms.ToTensor(),\n",
    "                               torchvision.transforms.Normalize(\n",
    "                                 (0.1307,), (0.3081,))\n",
    "                             ])),\n",
    "  batch_size=batch_size_train, shuffle=True)"
   ]
  },
  {
   "cell_type": "code",
   "execution_count": 19,
   "metadata": {},
   "outputs": [],
   "source": [
    "test_loader = torch.utils.data.DataLoader(\n",
    "  torchvision.datasets.MNIST('/files/', train=False, download=True,\n",
    "                             transform=torchvision.transforms.Compose([\n",
    "                               torchvision.transforms.ToTensor(),\n",
    "                               torchvision.transforms.Normalize(\n",
    "                                 (0.1307,), (0.3081,))\n",
    "                             ])),\n",
    "  batch_size=batch_size_test, shuffle=True)"
   ]
  },
  {
   "cell_type": "markdown",
   "metadata": {},
   "source": [
    "Just trying to get an example and see if the data loaded"
   ]
  },
  {
   "cell_type": "code",
   "execution_count": 20,
   "metadata": {},
   "outputs": [],
   "source": [
    "examples = enumerate(test_loader)\n",
    "batch_idx, (example_data, example_targets) = next(examples)"
   ]
  },
  {
   "cell_type": "code",
   "execution_count": 21,
   "metadata": {},
   "outputs": [
    {
     "data": {
      "text/plain": [
       "torch.Size([100, 1, 28, 28])"
      ]
     },
     "execution_count": 21,
     "metadata": {},
     "output_type": "execute_result"
    }
   ],
   "source": [
    "example_data.shape"
   ]
  },
  {
   "cell_type": "markdown",
   "metadata": {},
   "source": [
    "some plotting of examples with the \"ground truth\""
   ]
  },
  {
   "cell_type": "code",
   "execution_count": 22,
   "metadata": {},
   "outputs": [
    {
     "data": {
      "image/png": "[encoded data removed]",
      "text/plain": [
       "<Figure size 432x288 with 6 Axes>"
      ]
     },
     "execution_count": 22,
     "metadata": {},
     "output_type": "execute_result"
    },
    {
     "data": {
      "image/png": "[encoded data removed]",
      "text/plain": [
       "<Figure size 432x288 with 6 Axes>"
      ]
     },
     "metadata": {},
     "output_type": "display_data"
    }
   ],
   "source": [
    "import matplotlib.pyplot as plt\n",
    "\n",
    "fig = plt.figure()\n",
    "for i in range(6):\n",
    "  plt.subplot(2,3,i+1)\n",
    "  plt.tight_layout()\n",
    "  plt.imshow(example_data[i][0], cmap='gray', interpolation='none')\n",
    "  plt.title(\"Ground Truth: {}\".format(example_targets[i]))\n",
    "  plt.xticks([])\n",
    "  plt.yticks([])\n",
    "fig"
   ]
  },
  {
   "cell_type": "markdown",
   "metadata": {},
   "source": [
    "# Building the Network"
   ]
  },
  {
   "cell_type": "code",
   "execution_count": 23,
   "metadata": {},
   "outputs": [],
   "source": [
    "import torch.nn as nn\n",
    "import torch.nn.functional as F\n",
    "import torch.optim as optim"
   ]
  },
  {
   "cell_type": "markdown",
   "metadata": {},
   "source": [
    "Here we are defining a nn model and forward propogation with a 2d layers and max pooling features. Also, a dropout step is added."
   ]
  },
  {
   "cell_type": "code",
   "execution_count": 24,
   "metadata": {},
   "outputs": [],
   "source": [
    "class Net(nn.Module):\n",
    "    def __init__(self):\n",
    "        super(Net, self).__init__()\n",
    "        self.conv1 = nn.Conv2d(1, 10, kernel_size=5)\n",
    "        self.conv2 = nn.Conv2d(10, 20, kernel_size=5)\n",
    "        self.conv2_drop = nn.Dropout2d()\n",
    "        self.fc1 = nn.Linear(320, 50)\n",
    "        self.fc2 = nn.Linear(50, 10)\n",
    "\n",
    "    def forward(self, x):\n",
    "        x = F.relu(F.max_pool2d(self.conv1(x), 2))\n",
    "        x = F.relu(F.max_pool2d(self.conv2_drop(self.conv2(x)), 2))\n",
    "        x = x.view(-1, 320)\n",
    "        x = F.relu(self.fc1(x))\n",
    "        x = F.dropout(x, training=self.training)\n",
    "        x = self.fc2(x)\n",
    "        return F.log_softmax(x)"
   ]
  },
  {
   "cell_type": "code",
   "execution_count": 25,
   "metadata": {},
   "outputs": [],
   "source": [
    "network = Net()\n",
    "optimizer = optim.SGD(network.parameters(), lr=learning_rate,\n",
    "                      momentum=momentum)"
   ]
  },
  {
   "cell_type": "markdown",
   "metadata": {},
   "source": [
    "# Training the model"
   ]
  },
  {
   "cell_type": "code",
   "execution_count": 26,
   "metadata": {},
   "outputs": [],
   "source": [
    "train_losses = []\n",
    "train_counter = []\n",
    "test_losses = []\n",
    "test_counter = [i*len(train_loader.dataset) for i in range(epochs + 1)]"
   ]
  },
  {
   "cell_type": "code",
   "execution_count": 27,
   "metadata": {},
   "outputs": [],
   "source": [
    "def train(epoch):\n",
    "  network.train()\n",
    "  for batch_idx, (data, target) in enumerate(train_loader):\n",
    "    optimizer.zero_grad()\n",
    "    output = network(data)\n",
    "    loss = F.nll_loss(output, target)\n",
    "    loss.backward()\n",
    "    optimizer.step()\n",
    "    if batch_idx % log_interval == 0:\n",
    "      print('Train Epoch: {} [{}/{} ({:.0f}%)]\\tLoss: {:.6f}'.format(\n",
    "        epoch, batch_idx * len(data), len(train_loader.dataset),\n",
    "        100. * batch_idx / len(train_loader), loss.item()))\n",
    "      train_losses.append(loss.item())\n",
    "      train_counter.append(\n",
    "        (batch_idx*64) + ((epoch-1)*len(train_loader.dataset)))\n",
    "   #   torch.save(network.state_dict(), '/results/model.pth')\n",
    "    #  torch.save(optimizer.state_dict(), '/results/optimizer.pth')"
   ]
  },
  {
   "cell_type": "code",
   "execution_count": 28,
   "metadata": {},
   "outputs": [],
   "source": [
    "def test():\n",
    "  network.eval()\n",
    "  test_loss = 0\n",
    "  correct = 0\n",
    "  with torch.no_grad():\n",
    "    for data, target in test_loader:\n",
    "      output = network(data)\n",
    "      test_loss += F.nll_loss(output, target, size_average=False).item()\n",
    "      pred = output.data.max(1, keepdim=True)[1]\n",
    "      correct += pred.eq(target.data.view_as(pred)).sum()\n",
    "  test_loss /= len(test_loader.dataset)\n",
    "  test_losses.append(test_loss)\n",
    "  print('\\nTest set: Avg. loss: {:.4f}, Accuracy: {}/{} ({:.0f}%)\\n'.format(\n",
    "    test_loss, correct, len(test_loader.dataset),\n",
    "    100. * correct / len(test_loader.dataset)))"
   ]
  },
  {
   "cell_type": "code",
   "execution_count": 29,
   "metadata": {},
   "outputs": [
    {
     "name": "stderr",
     "output_type": "stream",
     "text": [
      "C:\\Users\\plk1544\\Anaconda3\\lib\\site-packages\\ipykernel_launcher.py:17: UserWarning: Implicit dimension choice for log_softmax has been deprecated. Change the call to include dim=X as an argument.\n",
      "C:\\Users\\plk1544\\Anaconda3\\lib\\site-packages\\torch\\nn\\_reduction.py:49: UserWarning: size_average and reduce args will be deprecated, please use reduction='sum' instead.\n",
      "  warnings.warn(warning.format(ret))\n"
     ]
    },
    {
     "name": "stdout",
     "output_type": "stream",
     "text": [
      "\n",
      "Test set: Avg. loss: 2.3004, Accuracy: 751/10000 (7%)\n",
      "\n",
      "Train Epoch: 1 [0/60000 (0%)]\tLoss: 2.271784\n",
      "Train Epoch: 1 [1000/60000 (2%)]\tLoss: 2.093460\n",
      "Train Epoch: 1 [2000/60000 (3%)]\tLoss: 1.645728\n",
      "Train Epoch: 1 [3000/60000 (5%)]\tLoss: 1.032155\n",
      "Train Epoch: 1 [4000/60000 (7%)]\tLoss: 1.070691\n",
      "Train Epoch: 1 [5000/60000 (8%)]\tLoss: 0.974950\n",
      "Train Epoch: 1 [6000/60000 (10%)]\tLoss: 0.879852\n",
      "Train Epoch: 1 [7000/60000 (12%)]\tLoss: 0.793489\n",
      "Train Epoch: 1 [8000/60000 (13%)]\tLoss: 0.745545\n",
      "Train Epoch: 1 [9000/60000 (15%)]\tLoss: 0.637609\n",
      "Train Epoch: 1 [10000/60000 (17%)]\tLoss: 0.686899\n",
      "Train Epoch: 1 [11000/60000 (18%)]\tLoss: 0.551023\n",
      "Train Epoch: 1 [12000/60000 (20%)]\tLoss: 0.608286\n",
      "Train Epoch: 1 [13000/60000 (22%)]\tLoss: 0.649414\n",
      "Train Epoch: 1 [14000/60000 (23%)]\tLoss: 0.474134\n",
      "Train Epoch: 1 [15000/60000 (25%)]\tLoss: 0.362591\n",
      "Train Epoch: 1 [16000/60000 (27%)]\tLoss: 0.539907\n",
      "Train Epoch: 1 [17000/60000 (28%)]\tLoss: 0.492546\n",
      "Train Epoch: 1 [18000/60000 (30%)]\tLoss: 0.471400\n",
      "Train Epoch: 1 [19000/60000 (32%)]\tLoss: 0.349993\n",
      "Train Epoch: 1 [20000/60000 (33%)]\tLoss: 0.378611\n",
      "Train Epoch: 1 [21000/60000 (35%)]\tLoss: 0.571010\n",
      "Train Epoch: 1 [22000/60000 (37%)]\tLoss: 0.402359\n",
      "Train Epoch: 1 [23000/60000 (38%)]\tLoss: 0.421523\n",
      "Train Epoch: 1 [24000/60000 (40%)]\tLoss: 0.440669\n",
      "Train Epoch: 1 [25000/60000 (42%)]\tLoss: 0.360302\n",
      "Train Epoch: 1 [26000/60000 (43%)]\tLoss: 0.363269\n",
      "Train Epoch: 1 [27000/60000 (45%)]\tLoss: 0.277498\n",
      "Train Epoch: 1 [28000/60000 (47%)]\tLoss: 0.547649\n",
      "Train Epoch: 1 [29000/60000 (48%)]\tLoss: 0.349895\n",
      "Train Epoch: 1 [30000/60000 (50%)]\tLoss: 0.421095\n",
      "Train Epoch: 1 [31000/60000 (52%)]\tLoss: 0.314144\n",
      "Train Epoch: 1 [32000/60000 (53%)]\tLoss: 0.452955\n",
      "Train Epoch: 1 [33000/60000 (55%)]\tLoss: 0.354017\n",
      "Train Epoch: 1 [34000/60000 (57%)]\tLoss: 0.476382\n",
      "Train Epoch: 1 [35000/60000 (58%)]\tLoss: 0.229118\n",
      "Train Epoch: 1 [36000/60000 (60%)]\tLoss: 0.393385\n",
      "Train Epoch: 1 [37000/60000 (62%)]\tLoss: 0.213267\n",
      "Train Epoch: 1 [38000/60000 (63%)]\tLoss: 0.393894\n",
      "Train Epoch: 1 [39000/60000 (65%)]\tLoss: 0.388865\n",
      "Train Epoch: 1 [40000/60000 (67%)]\tLoss: 0.405003\n",
      "Train Epoch: 1 [41000/60000 (68%)]\tLoss: 0.495212\n",
      "Train Epoch: 1 [42000/60000 (70%)]\tLoss: 0.325654\n",
      "Train Epoch: 1 [43000/60000 (72%)]\tLoss: 0.252901\n",
      "Train Epoch: 1 [44000/60000 (73%)]\tLoss: 0.431422\n",
      "Train Epoch: 1 [45000/60000 (75%)]\tLoss: 0.429652\n",
      "Train Epoch: 1 [46000/60000 (77%)]\tLoss: 0.400935\n",
      "Train Epoch: 1 [47000/60000 (78%)]\tLoss: 0.291776\n",
      "Train Epoch: 1 [48000/60000 (80%)]\tLoss: 0.174249\n",
      "Train Epoch: 1 [49000/60000 (82%)]\tLoss: 0.299102\n",
      "Train Epoch: 1 [50000/60000 (83%)]\tLoss: 0.170585\n",
      "Train Epoch: 1 [51000/60000 (85%)]\tLoss: 0.223585\n",
      "Train Epoch: 1 [52000/60000 (87%)]\tLoss: 0.407783\n",
      "Train Epoch: 1 [53000/60000 (88%)]\tLoss: 0.355772\n",
      "Train Epoch: 1 [54000/60000 (90%)]\tLoss: 0.168426\n",
      "Train Epoch: 1 [55000/60000 (92%)]\tLoss: 0.261630\n",
      "Train Epoch: 1 [56000/60000 (93%)]\tLoss: 0.193770\n",
      "Train Epoch: 1 [57000/60000 (95%)]\tLoss: 0.332255\n",
      "Train Epoch: 1 [58000/60000 (97%)]\tLoss: 0.357663\n",
      "Train Epoch: 1 [59000/60000 (98%)]\tLoss: 0.388092\n",
      "\n",
      "Test set: Avg. loss: 0.0880, Accuracy: 9753/10000 (97%)\n",
      "\n",
      "Train Epoch: 2 [0/60000 (0%)]\tLoss: 0.155855\n",
      "Train Epoch: 2 [1000/60000 (2%)]\tLoss: 0.256503\n",
      "Train Epoch: 2 [2000/60000 (3%)]\tLoss: 0.239466\n",
      "Train Epoch: 2 [3000/60000 (5%)]\tLoss: 0.295860\n",
      "Train Epoch: 2 [4000/60000 (7%)]\tLoss: 0.281868\n",
      "Train Epoch: 2 [5000/60000 (8%)]\tLoss: 0.419667\n",
      "Train Epoch: 2 [6000/60000 (10%)]\tLoss: 0.127488\n",
      "Train Epoch: 2 [7000/60000 (12%)]\tLoss: 0.201524\n",
      "Train Epoch: 2 [8000/60000 (13%)]\tLoss: 0.332081\n",
      "Train Epoch: 2 [9000/60000 (15%)]\tLoss: 0.167266\n",
      "Train Epoch: 2 [10000/60000 (17%)]\tLoss: 0.163907\n",
      "Train Epoch: 2 [11000/60000 (18%)]\tLoss: 0.320138\n",
      "Train Epoch: 2 [12000/60000 (20%)]\tLoss: 0.168642\n",
      "Train Epoch: 2 [13000/60000 (22%)]\tLoss: 0.157590\n",
      "Train Epoch: 2 [14000/60000 (23%)]\tLoss: 0.241876\n",
      "Train Epoch: 2 [15000/60000 (25%)]\tLoss: 0.258643\n",
      "Train Epoch: 2 [16000/60000 (27%)]\tLoss: 0.269624\n",
      "Train Epoch: 2 [17000/60000 (28%)]\tLoss: 0.152743\n",
      "Train Epoch: 2 [18000/60000 (30%)]\tLoss: 0.193164\n",
      "Train Epoch: 2 [19000/60000 (32%)]\tLoss: 0.272366\n",
      "Train Epoch: 2 [20000/60000 (33%)]\tLoss: 0.176677\n",
      "Train Epoch: 2 [21000/60000 (35%)]\tLoss: 0.300929\n",
      "Train Epoch: 2 [22000/60000 (37%)]\tLoss: 0.306602\n",
      "Train Epoch: 2 [23000/60000 (38%)]\tLoss: 0.300259\n",
      "Train Epoch: 2 [24000/60000 (40%)]\tLoss: 0.398927\n",
      "Train Epoch: 2 [25000/60000 (42%)]\tLoss: 0.260068\n",
      "Train Epoch: 2 [26000/60000 (43%)]\tLoss: 0.260865\n",
      "Train Epoch: 2 [27000/60000 (45%)]\tLoss: 0.454734\n",
      "Train Epoch: 2 [28000/60000 (47%)]\tLoss: 0.172986\n",
      "Train Epoch: 2 [29000/60000 (48%)]\tLoss: 0.268785\n",
      "Train Epoch: 2 [30000/60000 (50%)]\tLoss: 0.154187\n",
      "Train Epoch: 2 [31000/60000 (52%)]\tLoss: 0.199678\n",
      "Train Epoch: 2 [32000/60000 (53%)]\tLoss: 0.118353\n",
      "Train Epoch: 2 [33000/60000 (55%)]\tLoss: 0.239521\n",
      "Train Epoch: 2 [34000/60000 (57%)]\tLoss: 0.209292\n",
      "Train Epoch: 2 [35000/60000 (58%)]\tLoss: 0.119816\n",
      "Train Epoch: 2 [36000/60000 (60%)]\tLoss: 0.183948\n",
      "Train Epoch: 2 [37000/60000 (62%)]\tLoss: 0.221600\n",
      "Train Epoch: 2 [38000/60000 (63%)]\tLoss: 0.146540\n",
      "Train Epoch: 2 [39000/60000 (65%)]\tLoss: 0.297748\n",
      "Train Epoch: 2 [40000/60000 (67%)]\tLoss: 0.311772\n",
      "Train Epoch: 2 [41000/60000 (68%)]\tLoss: 0.432522\n",
      "Train Epoch: 2 [42000/60000 (70%)]\tLoss: 0.348376\n",
      "Train Epoch: 2 [43000/60000 (72%)]\tLoss: 0.108040\n",
      "Train Epoch: 2 [44000/60000 (73%)]\tLoss: 0.218661\n",
      "Train Epoch: 2 [45000/60000 (75%)]\tLoss: 0.246633\n",
      "Train Epoch: 2 [46000/60000 (77%)]\tLoss: 0.271461\n",
      "Train Epoch: 2 [47000/60000 (78%)]\tLoss: 0.219181\n",
      "Train Epoch: 2 [48000/60000 (80%)]\tLoss: 0.130666\n",
      "Train Epoch: 2 [49000/60000 (82%)]\tLoss: 0.137703\n",
      "Train Epoch: 2 [50000/60000 (83%)]\tLoss: 0.176380\n",
      "Train Epoch: 2 [51000/60000 (85%)]\tLoss: 0.186442\n",
      "Train Epoch: 2 [52000/60000 (87%)]\tLoss: 0.298704\n",
      "Train Epoch: 2 [53000/60000 (88%)]\tLoss: 0.209032\n",
      "Train Epoch: 2 [54000/60000 (90%)]\tLoss: 0.114852\n",
      "Train Epoch: 2 [55000/60000 (92%)]\tLoss: 0.227002\n",
      "Train Epoch: 2 [56000/60000 (93%)]\tLoss: 0.277773\n",
      "Train Epoch: 2 [57000/60000 (95%)]\tLoss: 0.192342\n",
      "Train Epoch: 2 [58000/60000 (97%)]\tLoss: 0.492782\n",
      "Train Epoch: 2 [59000/60000 (98%)]\tLoss: 0.219668\n",
      "\n",
      "Test set: Avg. loss: 0.0669, Accuracy: 9803/10000 (98%)\n",
      "\n",
      "Train Epoch: 3 [0/60000 (0%)]\tLoss: 0.149921\n",
      "Train Epoch: 3 [1000/60000 (2%)]\tLoss: 0.123675\n",
      "Train Epoch: 3 [2000/60000 (3%)]\tLoss: 0.217127\n",
      "Train Epoch: 3 [3000/60000 (5%)]\tLoss: 0.084542\n",
      "Train Epoch: 3 [4000/60000 (7%)]\tLoss: 0.159853\n",
      "Train Epoch: 3 [5000/60000 (8%)]\tLoss: 0.174121\n",
      "Train Epoch: 3 [6000/60000 (10%)]\tLoss: 0.155810\n",
      "Train Epoch: 3 [7000/60000 (12%)]\tLoss: 0.179337\n",
      "Train Epoch: 3 [8000/60000 (13%)]\tLoss: 0.157738\n",
      "Train Epoch: 3 [9000/60000 (15%)]\tLoss: 0.135871\n",
      "Train Epoch: 3 [10000/60000 (17%)]\tLoss: 0.408023\n",
      "Train Epoch: 3 [11000/60000 (18%)]\tLoss: 0.229920\n",
      "Train Epoch: 3 [12000/60000 (20%)]\tLoss: 0.124965\n",
      "Train Epoch: 3 [13000/60000 (22%)]\tLoss: 0.080622\n",
      "Train Epoch: 3 [14000/60000 (23%)]\tLoss: 0.471065\n",
      "Train Epoch: 3 [15000/60000 (25%)]\tLoss: 0.162745\n",
      "Train Epoch: 3 [16000/60000 (27%)]\tLoss: 0.233697\n",
      "Train Epoch: 3 [17000/60000 (28%)]\tLoss: 0.347720\n",
      "Train Epoch: 3 [18000/60000 (30%)]\tLoss: 0.140195\n",
      "Train Epoch: 3 [19000/60000 (32%)]\tLoss: 0.318407\n",
      "Train Epoch: 3 [20000/60000 (33%)]\tLoss: 0.203559\n",
      "Train Epoch: 3 [21000/60000 (35%)]\tLoss: 0.281425\n",
      "Train Epoch: 3 [22000/60000 (37%)]\tLoss: 0.189731\n",
      "Train Epoch: 3 [23000/60000 (38%)]\tLoss: 0.296903\n",
      "Train Epoch: 3 [24000/60000 (40%)]\tLoss: 0.147152\n",
      "Train Epoch: 3 [25000/60000 (42%)]\tLoss: 0.188059\n",
      "Train Epoch: 3 [26000/60000 (43%)]\tLoss: 0.130425\n",
      "Train Epoch: 3 [27000/60000 (45%)]\tLoss: 0.134552\n",
      "Train Epoch: 3 [28000/60000 (47%)]\tLoss: 0.224234\n",
      "Train Epoch: 3 [29000/60000 (48%)]\tLoss: 0.296033\n",
      "Train Epoch: 3 [30000/60000 (50%)]\tLoss: 0.252902\n",
      "Train Epoch: 3 [31000/60000 (52%)]\tLoss: 0.246415\n",
      "Train Epoch: 3 [32000/60000 (53%)]\tLoss: 0.161708\n",
      "Train Epoch: 3 [33000/60000 (55%)]\tLoss: 0.187866\n",
      "Train Epoch: 3 [34000/60000 (57%)]\tLoss: 0.188425\n",
      "Train Epoch: 3 [35000/60000 (58%)]\tLoss: 0.238941\n",
      "Train Epoch: 3 [36000/60000 (60%)]\tLoss: 0.234030\n",
      "Train Epoch: 3 [37000/60000 (62%)]\tLoss: 0.277948\n",
      "Train Epoch: 3 [38000/60000 (63%)]\tLoss: 0.150084\n",
      "Train Epoch: 3 [39000/60000 (65%)]\tLoss: 0.174228\n",
      "Train Epoch: 3 [40000/60000 (67%)]\tLoss: 0.273331\n",
      "Train Epoch: 3 [41000/60000 (68%)]\tLoss: 0.246287\n"
     ]
    },
    {
     "name": "stdout",
     "output_type": "stream",
     "text": [
      "Train Epoch: 3 [42000/60000 (70%)]\tLoss: 0.198328\n",
      "Train Epoch: 3 [43000/60000 (72%)]\tLoss: 0.082852\n",
      "Train Epoch: 3 [44000/60000 (73%)]\tLoss: 0.234275\n",
      "Train Epoch: 3 [45000/60000 (75%)]\tLoss: 0.162350\n",
      "Train Epoch: 3 [46000/60000 (77%)]\tLoss: 0.120458\n",
      "Train Epoch: 3 [47000/60000 (78%)]\tLoss: 0.302999\n",
      "Train Epoch: 3 [48000/60000 (80%)]\tLoss: 0.069336\n",
      "Train Epoch: 3 [49000/60000 (82%)]\tLoss: 0.201145\n",
      "Train Epoch: 3 [50000/60000 (83%)]\tLoss: 0.284113\n",
      "Train Epoch: 3 [51000/60000 (85%)]\tLoss: 0.170861\n",
      "Train Epoch: 3 [52000/60000 (87%)]\tLoss: 0.205924\n",
      "Train Epoch: 3 [53000/60000 (88%)]\tLoss: 0.144623\n",
      "Train Epoch: 3 [54000/60000 (90%)]\tLoss: 0.112953\n",
      "Train Epoch: 3 [55000/60000 (92%)]\tLoss: 0.177262\n",
      "Train Epoch: 3 [56000/60000 (93%)]\tLoss: 0.130513\n",
      "Train Epoch: 3 [57000/60000 (95%)]\tLoss: 0.245694\n",
      "Train Epoch: 3 [58000/60000 (97%)]\tLoss: 0.139649\n",
      "Train Epoch: 3 [59000/60000 (98%)]\tLoss: 0.125785\n",
      "\n",
      "Test set: Avg. loss: 0.0593, Accuracy: 9814/10000 (98%)\n",
      "\n",
      "Train Epoch: 4 [0/60000 (0%)]\tLoss: 0.212234\n",
      "Train Epoch: 4 [1000/60000 (2%)]\tLoss: 0.199339\n",
      "Train Epoch: 4 [2000/60000 (3%)]\tLoss: 0.070901\n",
      "Train Epoch: 4 [3000/60000 (5%)]\tLoss: 0.286098\n",
      "Train Epoch: 4 [4000/60000 (7%)]\tLoss: 0.090493\n",
      "Train Epoch: 4 [5000/60000 (8%)]\tLoss: 0.136240\n",
      "Train Epoch: 4 [6000/60000 (10%)]\tLoss: 0.161304\n",
      "Train Epoch: 4 [7000/60000 (12%)]\tLoss: 0.167631\n",
      "Train Epoch: 4 [8000/60000 (13%)]\tLoss: 0.214742\n",
      "Train Epoch: 4 [9000/60000 (15%)]\tLoss: 0.192979\n",
      "Train Epoch: 4 [10000/60000 (17%)]\tLoss: 0.187133\n",
      "Train Epoch: 4 [11000/60000 (18%)]\tLoss: 0.135312\n",
      "Train Epoch: 4 [12000/60000 (20%)]\tLoss: 0.240698\n",
      "Train Epoch: 4 [13000/60000 (22%)]\tLoss: 0.147621\n",
      "Train Epoch: 4 [14000/60000 (23%)]\tLoss: 0.238478\n",
      "Train Epoch: 4 [15000/60000 (25%)]\tLoss: 0.120610\n",
      "Train Epoch: 4 [16000/60000 (27%)]\tLoss: 0.220813\n",
      "Train Epoch: 4 [17000/60000 (28%)]\tLoss: 0.249143\n",
      "Train Epoch: 4 [18000/60000 (30%)]\tLoss: 0.217101\n",
      "Train Epoch: 4 [19000/60000 (32%)]\tLoss: 0.154568\n",
      "Train Epoch: 4 [20000/60000 (33%)]\tLoss: 0.113541\n",
      "Train Epoch: 4 [21000/60000 (35%)]\tLoss: 0.144988\n",
      "Train Epoch: 4 [22000/60000 (37%)]\tLoss: 0.308398\n",
      "Train Epoch: 4 [23000/60000 (38%)]\tLoss: 0.197938\n",
      "Train Epoch: 4 [24000/60000 (40%)]\tLoss: 0.168306\n",
      "Train Epoch: 4 [25000/60000 (42%)]\tLoss: 0.132380\n",
      "Train Epoch: 4 [26000/60000 (43%)]\tLoss: 0.276318\n",
      "Train Epoch: 4 [27000/60000 (45%)]\tLoss: 0.169205\n",
      "Train Epoch: 4 [28000/60000 (47%)]\tLoss: 0.136669\n",
      "Train Epoch: 4 [29000/60000 (48%)]\tLoss: 0.088394\n",
      "Train Epoch: 4 [30000/60000 (50%)]\tLoss: 0.149106\n",
      "Train Epoch: 4 [31000/60000 (52%)]\tLoss: 0.250289\n",
      "Train Epoch: 4 [32000/60000 (53%)]\tLoss: 0.335527\n",
      "Train Epoch: 4 [33000/60000 (55%)]\tLoss: 0.187280\n",
      "Train Epoch: 4 [34000/60000 (57%)]\tLoss: 0.296734\n",
      "Train Epoch: 4 [35000/60000 (58%)]\tLoss: 0.084970\n",
      "Train Epoch: 4 [36000/60000 (60%)]\tLoss: 0.139302\n",
      "Train Epoch: 4 [37000/60000 (62%)]\tLoss: 0.086068\n",
      "Train Epoch: 4 [38000/60000 (63%)]\tLoss: 0.216143\n",
      "Train Epoch: 4 [39000/60000 (65%)]\tLoss: 0.269318\n",
      "Train Epoch: 4 [40000/60000 (67%)]\tLoss: 0.194567\n",
      "Train Epoch: 4 [41000/60000 (68%)]\tLoss: 0.220512\n",
      "Train Epoch: 4 [42000/60000 (70%)]\tLoss: 0.138698\n",
      "Train Epoch: 4 [43000/60000 (72%)]\tLoss: 0.177364\n",
      "Train Epoch: 4 [44000/60000 (73%)]\tLoss: 0.175179\n",
      "Train Epoch: 4 [45000/60000 (75%)]\tLoss: 0.142450\n",
      "Train Epoch: 4 [46000/60000 (77%)]\tLoss: 0.229155\n",
      "Train Epoch: 4 [47000/60000 (78%)]\tLoss: 0.056689\n",
      "Train Epoch: 4 [48000/60000 (80%)]\tLoss: 0.168976\n",
      "Train Epoch: 4 [49000/60000 (82%)]\tLoss: 0.101170\n",
      "Train Epoch: 4 [50000/60000 (83%)]\tLoss: 0.413949\n",
      "Train Epoch: 4 [51000/60000 (85%)]\tLoss: 0.165252\n",
      "Train Epoch: 4 [52000/60000 (87%)]\tLoss: 0.160259\n",
      "Train Epoch: 4 [53000/60000 (88%)]\tLoss: 0.133209\n",
      "Train Epoch: 4 [54000/60000 (90%)]\tLoss: 0.176326\n",
      "Train Epoch: 4 [55000/60000 (92%)]\tLoss: 0.224238\n",
      "Train Epoch: 4 [56000/60000 (93%)]\tLoss: 0.196565\n",
      "Train Epoch: 4 [57000/60000 (95%)]\tLoss: 0.193792\n",
      "Train Epoch: 4 [58000/60000 (97%)]\tLoss: 0.138065\n",
      "Train Epoch: 4 [59000/60000 (98%)]\tLoss: 0.135161\n",
      "\n",
      "Test set: Avg. loss: 0.0674, Accuracy: 9802/10000 (98%)\n",
      "\n",
      "Train Epoch: 5 [0/60000 (0%)]\tLoss: 0.096856\n",
      "Train Epoch: 5 [1000/60000 (2%)]\tLoss: 0.091063\n",
      "Train Epoch: 5 [2000/60000 (3%)]\tLoss: 0.197010\n",
      "Train Epoch: 5 [3000/60000 (5%)]\tLoss: 0.192098\n",
      "Train Epoch: 5 [4000/60000 (7%)]\tLoss: 0.141291\n",
      "Train Epoch: 5 [5000/60000 (8%)]\tLoss: 0.134691\n",
      "Train Epoch: 5 [6000/60000 (10%)]\tLoss: 0.071954\n",
      "Train Epoch: 5 [7000/60000 (12%)]\tLoss: 0.144612\n",
      "Train Epoch: 5 [8000/60000 (13%)]\tLoss: 0.243535\n",
      "Train Epoch: 5 [9000/60000 (15%)]\tLoss: 0.192770\n",
      "Train Epoch: 5 [10000/60000 (17%)]\tLoss: 0.133897\n",
      "Train Epoch: 5 [11000/60000 (18%)]\tLoss: 0.142474\n",
      "Train Epoch: 5 [12000/60000 (20%)]\tLoss: 0.270201\n",
      "Train Epoch: 5 [13000/60000 (22%)]\tLoss: 0.222173\n",
      "Train Epoch: 5 [14000/60000 (23%)]\tLoss: 0.118492\n",
      "Train Epoch: 5 [15000/60000 (25%)]\tLoss: 0.144828\n",
      "Train Epoch: 5 [16000/60000 (27%)]\tLoss: 0.104967\n",
      "Train Epoch: 5 [17000/60000 (28%)]\tLoss: 0.202355\n",
      "Train Epoch: 5 [18000/60000 (30%)]\tLoss: 0.197252\n",
      "Train Epoch: 5 [19000/60000 (32%)]\tLoss: 0.134036\n",
      "Train Epoch: 5 [20000/60000 (33%)]\tLoss: 0.065758\n",
      "Train Epoch: 5 [21000/60000 (35%)]\tLoss: 0.211621\n",
      "Train Epoch: 5 [22000/60000 (37%)]\tLoss: 0.136033\n",
      "Train Epoch: 5 [23000/60000 (38%)]\tLoss: 0.107713\n",
      "Train Epoch: 5 [24000/60000 (40%)]\tLoss: 0.074017\n",
      "Train Epoch: 5 [25000/60000 (42%)]\tLoss: 0.194119\n",
      "Train Epoch: 5 [26000/60000 (43%)]\tLoss: 0.215317\n",
      "Train Epoch: 5 [27000/60000 (45%)]\tLoss: 0.255587\n",
      "Train Epoch: 5 [28000/60000 (47%)]\tLoss: 0.098902\n",
      "Train Epoch: 5 [29000/60000 (48%)]\tLoss: 0.223489\n",
      "Train Epoch: 5 [30000/60000 (50%)]\tLoss: 0.259039\n",
      "Train Epoch: 5 [31000/60000 (52%)]\tLoss: 0.081369\n",
      "Train Epoch: 5 [32000/60000 (53%)]\tLoss: 0.191217\n",
      "Train Epoch: 5 [33000/60000 (55%)]\tLoss: 0.185841\n",
      "Train Epoch: 5 [34000/60000 (57%)]\tLoss: 0.265145\n",
      "Train Epoch: 5 [35000/60000 (58%)]\tLoss: 0.113836\n",
      "Train Epoch: 5 [36000/60000 (60%)]\tLoss: 0.098040\n",
      "Train Epoch: 5 [37000/60000 (62%)]\tLoss: 0.068264\n",
      "Train Epoch: 5 [38000/60000 (63%)]\tLoss: 0.087160\n",
      "Train Epoch: 5 [39000/60000 (65%)]\tLoss: 0.082589\n",
      "Train Epoch: 5 [40000/60000 (67%)]\tLoss: 0.125506\n",
      "Train Epoch: 5 [41000/60000 (68%)]\tLoss: 0.090705\n",
      "Train Epoch: 5 [42000/60000 (70%)]\tLoss: 0.130368\n",
      "Train Epoch: 5 [43000/60000 (72%)]\tLoss: 0.080373\n",
      "Train Epoch: 5 [44000/60000 (73%)]\tLoss: 0.083916\n",
      "Train Epoch: 5 [45000/60000 (75%)]\tLoss: 0.124416\n",
      "Train Epoch: 5 [46000/60000 (77%)]\tLoss: 0.142214\n",
      "Train Epoch: 5 [47000/60000 (78%)]\tLoss: 0.150556\n",
      "Train Epoch: 5 [48000/60000 (80%)]\tLoss: 0.197966\n",
      "Train Epoch: 5 [49000/60000 (82%)]\tLoss: 0.185067\n",
      "Train Epoch: 5 [50000/60000 (83%)]\tLoss: 0.226929\n",
      "Train Epoch: 5 [51000/60000 (85%)]\tLoss: 0.211996\n",
      "Train Epoch: 5 [52000/60000 (87%)]\tLoss: 0.298216\n",
      "Train Epoch: 5 [53000/60000 (88%)]\tLoss: 0.156210\n",
      "Train Epoch: 5 [54000/60000 (90%)]\tLoss: 0.172425\n",
      "Train Epoch: 5 [55000/60000 (92%)]\tLoss: 0.182630\n",
      "Train Epoch: 5 [56000/60000 (93%)]\tLoss: 0.132680\n",
      "Train Epoch: 5 [57000/60000 (95%)]\tLoss: 0.216974\n",
      "Train Epoch: 5 [58000/60000 (97%)]\tLoss: 0.254537\n",
      "Train Epoch: 5 [59000/60000 (98%)]\tLoss: 0.258976\n",
      "\n",
      "Test set: Avg. loss: 0.0504, Accuracy: 9853/10000 (98%)\n",
      "\n",
      "Train Epoch: 6 [0/60000 (0%)]\tLoss: 0.459297\n",
      "Train Epoch: 6 [1000/60000 (2%)]\tLoss: 0.182133\n",
      "Train Epoch: 6 [2000/60000 (3%)]\tLoss: 0.172923\n",
      "Train Epoch: 6 [3000/60000 (5%)]\tLoss: 0.147076\n",
      "Train Epoch: 6 [4000/60000 (7%)]\tLoss: 0.091162\n",
      "Train Epoch: 6 [5000/60000 (8%)]\tLoss: 0.191137\n",
      "Train Epoch: 6 [6000/60000 (10%)]\tLoss: 0.146988\n",
      "Train Epoch: 6 [7000/60000 (12%)]\tLoss: 0.157269\n",
      "Train Epoch: 6 [8000/60000 (13%)]\tLoss: 0.189700\n",
      "Train Epoch: 6 [9000/60000 (15%)]\tLoss: 0.197831\n",
      "Train Epoch: 6 [10000/60000 (17%)]\tLoss: 0.136676\n",
      "Train Epoch: 6 [11000/60000 (18%)]\tLoss: 0.242837\n",
      "Train Epoch: 6 [12000/60000 (20%)]\tLoss: 0.149607\n",
      "Train Epoch: 6 [13000/60000 (22%)]\tLoss: 0.400614\n",
      "Train Epoch: 6 [14000/60000 (23%)]\tLoss: 0.036901\n",
      "Train Epoch: 6 [15000/60000 (25%)]\tLoss: 0.204299\n",
      "Train Epoch: 6 [16000/60000 (27%)]\tLoss: 0.122231\n",
      "Train Epoch: 6 [17000/60000 (28%)]\tLoss: 0.160445\n",
      "Train Epoch: 6 [18000/60000 (30%)]\tLoss: 0.110832\n",
      "Train Epoch: 6 [19000/60000 (32%)]\tLoss: 0.075288\n",
      "Train Epoch: 6 [20000/60000 (33%)]\tLoss: 0.227736\n",
      "Train Epoch: 6 [21000/60000 (35%)]\tLoss: 0.171933\n",
      "Train Epoch: 6 [22000/60000 (37%)]\tLoss: 0.170145\n",
      "Train Epoch: 6 [23000/60000 (38%)]\tLoss: 0.129696\n"
     ]
    },
    {
     "name": "stdout",
     "output_type": "stream",
     "text": [
      "Train Epoch: 6 [24000/60000 (40%)]\tLoss: 0.128772\n",
      "Train Epoch: 6 [25000/60000 (42%)]\tLoss: 0.099184\n",
      "Train Epoch: 6 [26000/60000 (43%)]\tLoss: 0.138853\n",
      "Train Epoch: 6 [27000/60000 (45%)]\tLoss: 0.191678\n",
      "Train Epoch: 6 [28000/60000 (47%)]\tLoss: 0.122700\n",
      "Train Epoch: 6 [29000/60000 (48%)]\tLoss: 0.081359\n",
      "Train Epoch: 6 [30000/60000 (50%)]\tLoss: 0.124113\n",
      "Train Epoch: 6 [31000/60000 (52%)]\tLoss: 0.113422\n",
      "Train Epoch: 6 [32000/60000 (53%)]\tLoss: 0.235823\n",
      "Train Epoch: 6 [33000/60000 (55%)]\tLoss: 0.263779\n",
      "Train Epoch: 6 [34000/60000 (57%)]\tLoss: 0.110843\n",
      "Train Epoch: 6 [35000/60000 (58%)]\tLoss: 0.143936\n",
      "Train Epoch: 6 [36000/60000 (60%)]\tLoss: 0.104908\n",
      "Train Epoch: 6 [37000/60000 (62%)]\tLoss: 0.072191\n",
      "Train Epoch: 6 [38000/60000 (63%)]\tLoss: 0.066824\n",
      "Train Epoch: 6 [39000/60000 (65%)]\tLoss: 0.238665\n",
      "Train Epoch: 6 [40000/60000 (67%)]\tLoss: 0.097583\n",
      "Train Epoch: 6 [41000/60000 (68%)]\tLoss: 0.246592\n",
      "Train Epoch: 6 [42000/60000 (70%)]\tLoss: 0.134096\n",
      "Train Epoch: 6 [43000/60000 (72%)]\tLoss: 0.232624\n",
      "Train Epoch: 6 [44000/60000 (73%)]\tLoss: 0.313941\n",
      "Train Epoch: 6 [45000/60000 (75%)]\tLoss: 0.147081\n",
      "Train Epoch: 6 [46000/60000 (77%)]\tLoss: 0.146094\n",
      "Train Epoch: 6 [47000/60000 (78%)]\tLoss: 0.318804\n",
      "Train Epoch: 6 [48000/60000 (80%)]\tLoss: 0.093280\n",
      "Train Epoch: 6 [49000/60000 (82%)]\tLoss: 0.148688\n",
      "Train Epoch: 6 [50000/60000 (83%)]\tLoss: 0.105079\n",
      "Train Epoch: 6 [51000/60000 (85%)]\tLoss: 0.320482\n",
      "Train Epoch: 6 [52000/60000 (87%)]\tLoss: 0.114443\n",
      "Train Epoch: 6 [53000/60000 (88%)]\tLoss: 0.166659\n",
      "Train Epoch: 6 [54000/60000 (90%)]\tLoss: 0.310226\n",
      "Train Epoch: 6 [55000/60000 (92%)]\tLoss: 0.230757\n",
      "Train Epoch: 6 [56000/60000 (93%)]\tLoss: 0.278752\n",
      "Train Epoch: 6 [57000/60000 (95%)]\tLoss: 0.268232\n",
      "Train Epoch: 6 [58000/60000 (97%)]\tLoss: 0.074164\n",
      "Train Epoch: 6 [59000/60000 (98%)]\tLoss: 0.052248\n",
      "\n",
      "Test set: Avg. loss: 0.0527, Accuracy: 9852/10000 (98%)\n",
      "\n",
      "Train Epoch: 7 [0/60000 (0%)]\tLoss: 0.248844\n",
      "Train Epoch: 7 [1000/60000 (2%)]\tLoss: 0.186151\n",
      "Train Epoch: 7 [2000/60000 (3%)]\tLoss: 0.168399\n",
      "Train Epoch: 7 [3000/60000 (5%)]\tLoss: 0.058678\n",
      "Train Epoch: 7 [4000/60000 (7%)]\tLoss: 0.166624\n",
      "Train Epoch: 7 [5000/60000 (8%)]\tLoss: 0.065154\n",
      "Train Epoch: 7 [6000/60000 (10%)]\tLoss: 0.154295\n",
      "Train Epoch: 7 [7000/60000 (12%)]\tLoss: 0.205505\n",
      "Train Epoch: 7 [8000/60000 (13%)]\tLoss: 0.296375\n",
      "Train Epoch: 7 [9000/60000 (15%)]\tLoss: 0.090681\n",
      "Train Epoch: 7 [10000/60000 (17%)]\tLoss: 0.130538\n",
      "Train Epoch: 7 [11000/60000 (18%)]\tLoss: 0.222202\n",
      "Train Epoch: 7 [12000/60000 (20%)]\tLoss: 0.074215\n",
      "Train Epoch: 7 [13000/60000 (22%)]\tLoss: 0.268207\n",
      "Train Epoch: 7 [14000/60000 (23%)]\tLoss: 0.176111\n",
      "Train Epoch: 7 [15000/60000 (25%)]\tLoss: 0.338789\n",
      "Train Epoch: 7 [16000/60000 (27%)]\tLoss: 0.211445\n",
      "Train Epoch: 7 [17000/60000 (28%)]\tLoss: 0.165931\n",
      "Train Epoch: 7 [18000/60000 (30%)]\tLoss: 0.129049\n",
      "Train Epoch: 7 [19000/60000 (32%)]\tLoss: 0.135341\n",
      "Train Epoch: 7 [20000/60000 (33%)]\tLoss: 0.130825\n",
      "Train Epoch: 7 [21000/60000 (35%)]\tLoss: 0.125223\n",
      "Train Epoch: 7 [22000/60000 (37%)]\tLoss: 0.054918\n",
      "Train Epoch: 7 [23000/60000 (38%)]\tLoss: 0.133149\n",
      "Train Epoch: 7 [24000/60000 (40%)]\tLoss: 0.119644\n",
      "Train Epoch: 7 [25000/60000 (42%)]\tLoss: 0.280844\n",
      "Train Epoch: 7 [26000/60000 (43%)]\tLoss: 0.087045\n",
      "Train Epoch: 7 [27000/60000 (45%)]\tLoss: 0.165143\n",
      "Train Epoch: 7 [28000/60000 (47%)]\tLoss: 0.090172\n",
      "Train Epoch: 7 [29000/60000 (48%)]\tLoss: 0.140219\n",
      "Train Epoch: 7 [30000/60000 (50%)]\tLoss: 0.199198\n",
      "Train Epoch: 7 [31000/60000 (52%)]\tLoss: 0.138275\n",
      "Train Epoch: 7 [32000/60000 (53%)]\tLoss: 0.162208\n",
      "Train Epoch: 7 [33000/60000 (55%)]\tLoss: 0.216020\n",
      "Train Epoch: 7 [34000/60000 (57%)]\tLoss: 0.028280\n",
      "Train Epoch: 7 [35000/60000 (58%)]\tLoss: 0.161652\n",
      "Train Epoch: 7 [36000/60000 (60%)]\tLoss: 0.171456\n",
      "Train Epoch: 7 [37000/60000 (62%)]\tLoss: 0.218325\n",
      "Train Epoch: 7 [38000/60000 (63%)]\tLoss: 0.268791\n",
      "Train Epoch: 7 [39000/60000 (65%)]\tLoss: 0.329917\n",
      "Train Epoch: 7 [40000/60000 (67%)]\tLoss: 0.142274\n",
      "Train Epoch: 7 [41000/60000 (68%)]\tLoss: 0.263023\n",
      "Train Epoch: 7 [42000/60000 (70%)]\tLoss: 0.159013\n",
      "Train Epoch: 7 [43000/60000 (72%)]\tLoss: 0.109703\n",
      "Train Epoch: 7 [44000/60000 (73%)]\tLoss: 0.156669\n",
      "Train Epoch: 7 [45000/60000 (75%)]\tLoss: 0.204398\n",
      "Train Epoch: 7 [46000/60000 (77%)]\tLoss: 0.111961\n",
      "Train Epoch: 7 [47000/60000 (78%)]\tLoss: 0.126433\n",
      "Train Epoch: 7 [48000/60000 (80%)]\tLoss: 0.093927\n",
      "Train Epoch: 7 [49000/60000 (82%)]\tLoss: 0.118080\n",
      "Train Epoch: 7 [50000/60000 (83%)]\tLoss: 0.219817\n",
      "Train Epoch: 7 [51000/60000 (85%)]\tLoss: 0.170404\n",
      "Train Epoch: 7 [52000/60000 (87%)]\tLoss: 0.026664\n",
      "Train Epoch: 7 [53000/60000 (88%)]\tLoss: 0.142059\n",
      "Train Epoch: 7 [54000/60000 (90%)]\tLoss: 0.120031\n",
      "Train Epoch: 7 [55000/60000 (92%)]\tLoss: 0.160798\n",
      "Train Epoch: 7 [56000/60000 (93%)]\tLoss: 0.185075\n",
      "Train Epoch: 7 [57000/60000 (95%)]\tLoss: 0.099982\n",
      "Train Epoch: 7 [58000/60000 (97%)]\tLoss: 0.077853\n",
      "Train Epoch: 7 [59000/60000 (98%)]\tLoss: 0.087914\n",
      "\n",
      "Test set: Avg. loss: 0.0511, Accuracy: 9847/10000 (98%)\n",
      "\n",
      "Train Epoch: 8 [0/60000 (0%)]\tLoss: 0.244564\n",
      "Train Epoch: 8 [1000/60000 (2%)]\tLoss: 0.089465\n",
      "Train Epoch: 8 [2000/60000 (3%)]\tLoss: 0.236310\n",
      "Train Epoch: 8 [3000/60000 (5%)]\tLoss: 0.219428\n",
      "Train Epoch: 8 [4000/60000 (7%)]\tLoss: 0.168522\n",
      "Train Epoch: 8 [5000/60000 (8%)]\tLoss: 0.147415\n",
      "Train Epoch: 8 [6000/60000 (10%)]\tLoss: 0.133325\n",
      "Train Epoch: 8 [7000/60000 (12%)]\tLoss: 0.102129\n",
      "Train Epoch: 8 [8000/60000 (13%)]\tLoss: 0.060823\n",
      "Train Epoch: 8 [9000/60000 (15%)]\tLoss: 0.075285\n",
      "Train Epoch: 8 [10000/60000 (17%)]\tLoss: 0.246060\n",
      "Train Epoch: 8 [11000/60000 (18%)]\tLoss: 0.166546\n",
      "Train Epoch: 8 [12000/60000 (20%)]\tLoss: 0.094543\n",
      "Train Epoch: 8 [13000/60000 (22%)]\tLoss: 0.135739\n",
      "Train Epoch: 8 [14000/60000 (23%)]\tLoss: 0.127172\n",
      "Train Epoch: 8 [15000/60000 (25%)]\tLoss: 0.171940\n",
      "Train Epoch: 8 [16000/60000 (27%)]\tLoss: 0.257441\n",
      "Train Epoch: 8 [17000/60000 (28%)]\tLoss: 0.112679\n",
      "Train Epoch: 8 [18000/60000 (30%)]\tLoss: 0.210113\n",
      "Train Epoch: 8 [19000/60000 (32%)]\tLoss: 0.161357\n",
      "Train Epoch: 8 [20000/60000 (33%)]\tLoss: 0.145709\n",
      "Train Epoch: 8 [21000/60000 (35%)]\tLoss: 0.262654\n",
      "Train Epoch: 8 [22000/60000 (37%)]\tLoss: 0.096797\n",
      "Train Epoch: 8 [23000/60000 (38%)]\tLoss: 0.137557\n",
      "Train Epoch: 8 [24000/60000 (40%)]\tLoss: 0.117865\n",
      "Train Epoch: 8 [25000/60000 (42%)]\tLoss: 0.113600\n",
      "Train Epoch: 8 [26000/60000 (43%)]\tLoss: 0.181870\n",
      "Train Epoch: 8 [27000/60000 (45%)]\tLoss: 0.230048\n",
      "Train Epoch: 8 [28000/60000 (47%)]\tLoss: 0.087089\n",
      "Train Epoch: 8 [29000/60000 (48%)]\tLoss: 0.172938\n",
      "Train Epoch: 8 [30000/60000 (50%)]\tLoss: 0.139905\n",
      "Train Epoch: 8 [31000/60000 (52%)]\tLoss: 0.232830\n",
      "Train Epoch: 8 [32000/60000 (53%)]\tLoss: 0.251303\n",
      "Train Epoch: 8 [33000/60000 (55%)]\tLoss: 0.092590\n",
      "Train Epoch: 8 [34000/60000 (57%)]\tLoss: 0.246368\n",
      "Train Epoch: 8 [35000/60000 (58%)]\tLoss: 0.180947\n",
      "Train Epoch: 8 [36000/60000 (60%)]\tLoss: 0.187966\n",
      "Train Epoch: 8 [37000/60000 (62%)]\tLoss: 0.141244\n",
      "Train Epoch: 8 [38000/60000 (63%)]\tLoss: 0.173365\n",
      "Train Epoch: 8 [39000/60000 (65%)]\tLoss: 0.071682\n",
      "Train Epoch: 8 [40000/60000 (67%)]\tLoss: 0.081904\n",
      "Train Epoch: 8 [41000/60000 (68%)]\tLoss: 0.092555\n",
      "Train Epoch: 8 [42000/60000 (70%)]\tLoss: 0.085365\n",
      "Train Epoch: 8 [43000/60000 (72%)]\tLoss: 0.212070\n",
      "Train Epoch: 8 [44000/60000 (73%)]\tLoss: 0.118865\n",
      "Train Epoch: 8 [45000/60000 (75%)]\tLoss: 0.268162\n",
      "Train Epoch: 8 [46000/60000 (77%)]\tLoss: 0.123084\n",
      "Train Epoch: 8 [47000/60000 (78%)]\tLoss: 0.082070\n",
      "Train Epoch: 8 [48000/60000 (80%)]\tLoss: 0.087028\n",
      "Train Epoch: 8 [49000/60000 (82%)]\tLoss: 0.128212\n",
      "Train Epoch: 8 [50000/60000 (83%)]\tLoss: 0.123388\n",
      "Train Epoch: 8 [51000/60000 (85%)]\tLoss: 0.096918\n",
      "Train Epoch: 8 [52000/60000 (87%)]\tLoss: 0.117929\n",
      "Train Epoch: 8 [53000/60000 (88%)]\tLoss: 0.093086\n",
      "Train Epoch: 8 [54000/60000 (90%)]\tLoss: 0.124558\n",
      "Train Epoch: 8 [55000/60000 (92%)]\tLoss: 0.141589\n",
      "Train Epoch: 8 [56000/60000 (93%)]\tLoss: 0.162737\n",
      "Train Epoch: 8 [57000/60000 (95%)]\tLoss: 0.196711\n",
      "Train Epoch: 8 [58000/60000 (97%)]\tLoss: 0.283509\n",
      "Train Epoch: 8 [59000/60000 (98%)]\tLoss: 0.223117\n",
      "\n",
      "Test set: Avg. loss: 0.0485, Accuracy: 9859/10000 (98%)\n",
      "\n",
      "Train Epoch: 9 [0/60000 (0%)]\tLoss: 0.129214\n",
      "Train Epoch: 9 [1000/60000 (2%)]\tLoss: 0.069462\n",
      "Train Epoch: 9 [2000/60000 (3%)]\tLoss: 0.214166\n",
      "Train Epoch: 9 [3000/60000 (5%)]\tLoss: 0.165166\n",
      "Train Epoch: 9 [4000/60000 (7%)]\tLoss: 0.073863\n",
      "Train Epoch: 9 [5000/60000 (8%)]\tLoss: 0.245217\n"
     ]
    },
    {
     "name": "stdout",
     "output_type": "stream",
     "text": [
      "Train Epoch: 9 [6000/60000 (10%)]\tLoss: 0.133764\n",
      "Train Epoch: 9 [7000/60000 (12%)]\tLoss: 0.112468\n",
      "Train Epoch: 9 [8000/60000 (13%)]\tLoss: 0.135427\n",
      "Train Epoch: 9 [9000/60000 (15%)]\tLoss: 0.029217\n",
      "Train Epoch: 9 [10000/60000 (17%)]\tLoss: 0.363363\n",
      "Train Epoch: 9 [11000/60000 (18%)]\tLoss: 0.232082\n",
      "Train Epoch: 9 [12000/60000 (20%)]\tLoss: 0.093244\n",
      "Train Epoch: 9 [13000/60000 (22%)]\tLoss: 0.181410\n",
      "Train Epoch: 9 [14000/60000 (23%)]\tLoss: 0.076875\n",
      "Train Epoch: 9 [15000/60000 (25%)]\tLoss: 0.255428\n",
      "Train Epoch: 9 [16000/60000 (27%)]\tLoss: 0.068585\n",
      "Train Epoch: 9 [17000/60000 (28%)]\tLoss: 0.063076\n",
      "Train Epoch: 9 [18000/60000 (30%)]\tLoss: 0.195720\n",
      "Train Epoch: 9 [19000/60000 (32%)]\tLoss: 0.168354\n",
      "Train Epoch: 9 [20000/60000 (33%)]\tLoss: 0.205837\n",
      "Train Epoch: 9 [21000/60000 (35%)]\tLoss: 0.237014\n",
      "Train Epoch: 9 [22000/60000 (37%)]\tLoss: 0.269831\n",
      "Train Epoch: 9 [23000/60000 (38%)]\tLoss: 0.168319\n",
      "Train Epoch: 9 [24000/60000 (40%)]\tLoss: 0.119888\n",
      "Train Epoch: 9 [25000/60000 (42%)]\tLoss: 0.081252\n",
      "Train Epoch: 9 [26000/60000 (43%)]\tLoss: 0.047692\n",
      "Train Epoch: 9 [27000/60000 (45%)]\tLoss: 0.288807\n",
      "Train Epoch: 9 [28000/60000 (47%)]\tLoss: 0.152809\n",
      "Train Epoch: 9 [29000/60000 (48%)]\tLoss: 0.290820\n",
      "Train Epoch: 9 [30000/60000 (50%)]\tLoss: 0.091473\n",
      "Train Epoch: 9 [31000/60000 (52%)]\tLoss: 0.130731\n",
      "Train Epoch: 9 [32000/60000 (53%)]\tLoss: 0.118603\n",
      "Train Epoch: 9 [33000/60000 (55%)]\tLoss: 0.180256\n",
      "Train Epoch: 9 [34000/60000 (57%)]\tLoss: 0.165073\n",
      "Train Epoch: 9 [35000/60000 (58%)]\tLoss: 0.179400\n",
      "Train Epoch: 9 [36000/60000 (60%)]\tLoss: 0.095100\n",
      "Train Epoch: 9 [37000/60000 (62%)]\tLoss: 0.167969\n",
      "Train Epoch: 9 [38000/60000 (63%)]\tLoss: 0.263859\n",
      "Train Epoch: 9 [39000/60000 (65%)]\tLoss: 0.167136\n",
      "Train Epoch: 9 [40000/60000 (67%)]\tLoss: 0.112917\n",
      "Train Epoch: 9 [41000/60000 (68%)]\tLoss: 0.078955\n",
      "Train Epoch: 9 [42000/60000 (70%)]\tLoss: 0.161102\n",
      "Train Epoch: 9 [43000/60000 (72%)]\tLoss: 0.079196\n",
      "Train Epoch: 9 [44000/60000 (73%)]\tLoss: 0.247186\n",
      "Train Epoch: 9 [45000/60000 (75%)]\tLoss: 0.230732\n",
      "Train Epoch: 9 [46000/60000 (77%)]\tLoss: 0.106734\n",
      "Train Epoch: 9 [47000/60000 (78%)]\tLoss: 0.212467\n",
      "Train Epoch: 9 [48000/60000 (80%)]\tLoss: 0.100000\n",
      "Train Epoch: 9 [49000/60000 (82%)]\tLoss: 0.135145\n",
      "Train Epoch: 9 [50000/60000 (83%)]\tLoss: 0.050081\n",
      "Train Epoch: 9 [51000/60000 (85%)]\tLoss: 0.191522\n",
      "Train Epoch: 9 [52000/60000 (87%)]\tLoss: 0.163327\n",
      "Train Epoch: 9 [53000/60000 (88%)]\tLoss: 0.249542\n",
      "Train Epoch: 9 [54000/60000 (90%)]\tLoss: 0.080250\n",
      "Train Epoch: 9 [55000/60000 (92%)]\tLoss: 0.189858\n",
      "Train Epoch: 9 [56000/60000 (93%)]\tLoss: 0.239430\n",
      "Train Epoch: 9 [57000/60000 (95%)]\tLoss: 0.105360\n",
      "Train Epoch: 9 [58000/60000 (97%)]\tLoss: 0.178539\n",
      "Train Epoch: 9 [59000/60000 (98%)]\tLoss: 0.072128\n",
      "\n",
      "Test set: Avg. loss: 0.0479, Accuracy: 9851/10000 (98%)\n",
      "\n",
      "Train Epoch: 10 [0/60000 (0%)]\tLoss: 0.156255\n",
      "Train Epoch: 10 [1000/60000 (2%)]\tLoss: 0.098934\n",
      "Train Epoch: 10 [2000/60000 (3%)]\tLoss: 0.170362\n",
      "Train Epoch: 10 [3000/60000 (5%)]\tLoss: 0.139634\n",
      "Train Epoch: 10 [4000/60000 (7%)]\tLoss: 0.053449\n",
      "Train Epoch: 10 [5000/60000 (8%)]\tLoss: 0.067704\n",
      "Train Epoch: 10 [6000/60000 (10%)]\tLoss: 0.348075\n",
      "Train Epoch: 10 [7000/60000 (12%)]\tLoss: 0.106419\n",
      "Train Epoch: 10 [8000/60000 (13%)]\tLoss: 0.060809\n",
      "Train Epoch: 10 [9000/60000 (15%)]\tLoss: 0.251003\n",
      "Train Epoch: 10 [10000/60000 (17%)]\tLoss: 0.090569\n",
      "Train Epoch: 10 [11000/60000 (18%)]\tLoss: 0.198961\n",
      "Train Epoch: 10 [12000/60000 (20%)]\tLoss: 0.203816\n",
      "Train Epoch: 10 [13000/60000 (22%)]\tLoss: 0.082671\n",
      "Train Epoch: 10 [14000/60000 (23%)]\tLoss: 0.124541\n",
      "Train Epoch: 10 [15000/60000 (25%)]\tLoss: 0.272514\n",
      "Train Epoch: 10 [16000/60000 (27%)]\tLoss: 0.078733\n",
      "Train Epoch: 10 [17000/60000 (28%)]\tLoss: 0.213808\n",
      "Train Epoch: 10 [18000/60000 (30%)]\tLoss: 0.126166\n",
      "Train Epoch: 10 [19000/60000 (32%)]\tLoss: 0.287772\n",
      "Train Epoch: 10 [20000/60000 (33%)]\tLoss: 0.119880\n",
      "Train Epoch: 10 [21000/60000 (35%)]\tLoss: 0.134976\n",
      "Train Epoch: 10 [22000/60000 (37%)]\tLoss: 0.100011\n",
      "Train Epoch: 10 [23000/60000 (38%)]\tLoss: 0.174153\n",
      "Train Epoch: 10 [24000/60000 (40%)]\tLoss: 0.131647\n",
      "Train Epoch: 10 [25000/60000 (42%)]\tLoss: 0.156167\n",
      "Train Epoch: 10 [26000/60000 (43%)]\tLoss: 0.116337\n",
      "Train Epoch: 10 [27000/60000 (45%)]\tLoss: 0.119356\n",
      "Train Epoch: 10 [28000/60000 (47%)]\tLoss: 0.285098\n",
      "Train Epoch: 10 [29000/60000 (48%)]\tLoss: 0.164420\n",
      "Train Epoch: 10 [30000/60000 (50%)]\tLoss: 0.100588\n",
      "Train Epoch: 10 [31000/60000 (52%)]\tLoss: 0.257666\n",
      "Train Epoch: 10 [32000/60000 (53%)]\tLoss: 0.272349\n",
      "Train Epoch: 10 [33000/60000 (55%)]\tLoss: 0.127721\n",
      "Train Epoch: 10 [34000/60000 (57%)]\tLoss: 0.145385\n",
      "Train Epoch: 10 [35000/60000 (58%)]\tLoss: 0.111482\n",
      "Train Epoch: 10 [36000/60000 (60%)]\tLoss: 0.146977\n",
      "Train Epoch: 10 [37000/60000 (62%)]\tLoss: 0.241750\n",
      "Train Epoch: 10 [38000/60000 (63%)]\tLoss: 0.124139\n",
      "Train Epoch: 10 [39000/60000 (65%)]\tLoss: 0.181257\n",
      "Train Epoch: 10 [40000/60000 (67%)]\tLoss: 0.141671\n",
      "Train Epoch: 10 [41000/60000 (68%)]\tLoss: 0.201797\n",
      "Train Epoch: 10 [42000/60000 (70%)]\tLoss: 0.104338\n",
      "Train Epoch: 10 [43000/60000 (72%)]\tLoss: 0.198039\n",
      "Train Epoch: 10 [44000/60000 (73%)]\tLoss: 0.234035\n",
      "Train Epoch: 10 [45000/60000 (75%)]\tLoss: 0.336199\n",
      "Train Epoch: 10 [46000/60000 (77%)]\tLoss: 0.206906\n",
      "Train Epoch: 10 [47000/60000 (78%)]\tLoss: 0.085749\n",
      "Train Epoch: 10 [48000/60000 (80%)]\tLoss: 0.127693\n",
      "Train Epoch: 10 [49000/60000 (82%)]\tLoss: 0.074765\n",
      "Train Epoch: 10 [50000/60000 (83%)]\tLoss: 0.201291\n",
      "Train Epoch: 10 [51000/60000 (85%)]\tLoss: 0.101266\n",
      "Train Epoch: 10 [52000/60000 (87%)]\tLoss: 0.099907\n",
      "Train Epoch: 10 [53000/60000 (88%)]\tLoss: 0.147947\n",
      "Train Epoch: 10 [54000/60000 (90%)]\tLoss: 0.131367\n",
      "Train Epoch: 10 [55000/60000 (92%)]\tLoss: 0.170329\n",
      "Train Epoch: 10 [56000/60000 (93%)]\tLoss: 0.164577\n",
      "Train Epoch: 10 [57000/60000 (95%)]\tLoss: 0.142086\n",
      "Train Epoch: 10 [58000/60000 (97%)]\tLoss: 0.222270\n",
      "Train Epoch: 10 [59000/60000 (98%)]\tLoss: 0.170340\n",
      "\n",
      "Test set: Avg. loss: 0.0420, Accuracy: 9872/10000 (98%)\n",
      "\n"
     ]
    }
   ],
   "source": [
    "test()\n",
    "for epoch in range(1, epochs + 1):\n",
    "  train(epoch)\n",
    "  test()"
   ]
  },
  {
   "cell_type": "markdown",
   "metadata": {},
   "source": [
    "My average loss was ~4.2% with an accuracy of over 98% within the 10 epochs suggested to be used.  Now we will graph those (The model's performance)."
   ]
  },
  {
   "cell_type": "code",
   "execution_count": 30,
   "metadata": {},
   "outputs": [
    {
     "data": {
      "text/plain": [
       "Text(0,0.5,'negative log likelihood loss')"
      ]
     },
     "execution_count": 30,
     "metadata": {},
     "output_type": "execute_result"
    },
    {
     "data": {
      "image/png": "[encoded data removed]",
      "text/plain": [
       "<Figure size 432x288 with 1 Axes>"
      ]
     },
     "metadata": {},
     "output_type": "display_data"
    }
   ],
   "source": [
    "#Model Performance\n",
    "fig = plt.figure()\n",
    "plt.plot(train_counter, train_losses, color='blue')\n",
    "plt.scatter(test_counter, test_losses, color='red')\n",
    "plt.legend(['Train Loss', 'Test Loss'], loc='upper right')\n",
    "plt.xlabel('number of training examples seen')\n",
    "plt.ylabel('negative log likelihood loss')\n",
    "#fig"
   ]
  },
  {
   "cell_type": "code",
   "execution_count": 31,
   "metadata": {},
   "outputs": [
    {
     "name": "stderr",
     "output_type": "stream",
     "text": [
      "C:\\Users\\plk1544\\Anaconda3\\lib\\site-packages\\ipykernel_launcher.py:17: UserWarning: Implicit dimension choice for log_softmax has been deprecated. Change the call to include dim=X as an argument.\n"
     ]
    }
   ],
   "source": [
    "with torch.no_grad():\n",
    "  output = network(example_data)"
   ]
  },
  {
   "cell_type": "code",
   "execution_count": 32,
   "metadata": {},
   "outputs": [
    {
     "data": {
      "text/plain": [
       "11"
      ]
     },
     "execution_count": 32,
     "metadata": {},
     "output_type": "execute_result"
    }
   ],
   "source": [
    "len(test_counter)"
   ]
  },
  {
   "cell_type": "code",
   "execution_count": 33,
   "metadata": {},
   "outputs": [
    {
     "data": {
      "text/plain": [
       "11"
      ]
     },
     "execution_count": 33,
     "metadata": {},
     "output_type": "execute_result"
    }
   ],
   "source": [
    "len(test_losses)"
   ]
  },
  {
   "cell_type": "markdown",
   "metadata": {},
   "source": [
    "Here are some examples."
   ]
  },
  {
   "cell_type": "code",
   "execution_count": 34,
   "metadata": {},
   "outputs": [
    {
     "data": {
      "image/png": "[encoded data removed]",
      "text/plain": [
       "<Figure size 432x288 with 6 Axes>"
      ]
     },
     "execution_count": 34,
     "metadata": {},
     "output_type": "execute_result"
    },
    {
     "data": {
      "image/png": "[encoded data removed]",
      "text/plain": [
       "<Figure size 432x288 with 6 Axes>"
      ]
     },
     "metadata": {},
     "output_type": "display_data"
    }
   ],
   "source": [
    "fig = plt.figure()\n",
    "for i in range(6):\n",
    "  plt.subplot(2,3,i+1)\n",
    "  plt.tight_layout()\n",
    "  plt.imshow(example_data[i][0], cmap='gray', interpolation='none')\n",
    "  plt.title(\"Prediction: {}\".format(\n",
    "    output.data.max(1, keepdim=True)[1][i].item()))\n",
    "  plt.xticks([])\n",
    "  plt.yticks([])\n",
    "fig"
   ]
  },
  {
   "cell_type": "code",
   "execution_count": null,
   "metadata": {},
   "outputs": [],
   "source": []
  }
 ],
 "metadata": {
  "kernelspec": {
   "display_name": "Python 3",
   "language": "python",
   "name": "python3"
  },
  "language_info": {
   "codemirror_mode": {
    "name": "ipython",
    "version": 3
   },
   "file_extension": ".py",
   "mimetype": "text/x-python",
   "name": "python",
   "nbconvert_exporter": "python",
   "pygments_lexer": "ipython3",
   "version": "3.6.5"
  }
 },
 "nbformat": 4,
 "nbformat_minor": 2
}
