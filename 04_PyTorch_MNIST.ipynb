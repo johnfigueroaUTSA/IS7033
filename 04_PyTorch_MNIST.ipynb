{
 "cells": [
  {
   "cell_type": "code",
   "execution_count": 31,
   "metadata": {},
   "outputs": [
    {
     "name": "stdout",
     "output_type": "stream",
     "text": [
      "Requirement already satisfied: torch in c:\\users\\plk1544\\anaconda3\\lib\\site-packages (1.0.1)\n",
      "Requirement already satisfied: torchvision in c:\\users\\plk1544\\anaconda3\\lib\\site-packages (0.2.1)\n",
      "Requirement already satisfied: numpy in c:\\users\\plk1544\\anaconda3\\lib\\site-packages (from torchvision) (1.14.3)\n",
      "Requirement already satisfied: pillow>=4.1.1 in c:\\users\\plk1544\\anaconda3\\lib\\site-packages (from torchvision) (5.1.0)\n",
      "Requirement already satisfied: six in c:\\users\\plk1544\\anaconda3\\lib\\site-packages (from torchvision) (1.11.0)\n"
     ]
    }
   ],
   "source": [
    "!pip install torch torchvision"
   ]
  },
  {
   "cell_type": "code",
   "execution_count": 32,
   "metadata": {},
   "outputs": [],
   "source": [
    "#Import Libraries\n",
    "\n",
    "\n",
    "from __future__ import print_function\n",
    "import argparse\n",
    "import torch\n",
    "import torch.nn as nn\n",
    "import torch.nn.functional as F\n",
    "import torch.optim as optim\n",
    "import torchvision\n",
    "from torchvision import datasets, transforms\n",
    "from torch.autograd import Variable\n",
    "mnist = torchvision.datasets.MNIST('/files/', download=True)"
   ]
  },
  {
   "cell_type": "code",
   "execution_count": 33,
   "metadata": {},
   "outputs": [],
   "source": [
    "args={}\n",
    "kwargs={}\n",
    "args['batch_size']=1000\n",
    "args['test_batch_size']=1000\n",
    "args['epochs']=10  #The number of Epochs is the number of times you go through the full dataset. \n",
    "args['lr']=0.01 #Learning rate is how fast it will decend. \n",
    "args['momentum']=0.5 #SGD momentum (default: 0.5) Momentum is a moving average of our gradients (helps to keep direction).\n",
    "\n",
    "args['seed']=1 #random seed\n",
    "args['log_interval']=10\n",
    "args['cuda']=False"
   ]
  },
  {
   "cell_type": "code",
   "execution_count": 34,
   "metadata": {},
   "outputs": [],
   "source": [
    "#load the data\n",
    "train_loader = torch.utils.data.DataLoader(\n",
    "    torchvision.datasets.MNIST('/files/', train=True, download=True,\n",
    "                   transform=transforms.Compose([\n",
    "                       transforms.ToTensor(),\n",
    "                       transforms.Normalize((0.1307,), (0.3081,))\n",
    "                   ])),\n",
    "    batch_size=args['batch_size'], shuffle=True, **kwargs)\n",
    "test_loader = torch.utils.data.DataLoader(\n",
    "    datasets.MNIST('/files/', train=False, transform=transforms.Compose([\n",
    "                       transforms.ToTensor(),\n",
    "                       transforms.Normalize((0.1307,), (0.3081,))\n",
    "                   ])),\n",
    "    batch_size=args['test_batch_size'], shuffle=True, **kwargs)"
   ]
  },
  {
   "cell_type": "code",
   "execution_count": 36,
   "metadata": {},
   "outputs": [],
   "source": [
    "examples = enumerate(test_loader)\n",
    "batch_idx, (example_data, example_targets) = next(examples)"
   ]
  },
  {
   "cell_type": "code",
   "execution_count": 37,
   "metadata": {},
   "outputs": [
    {
     "data": {
      "text/plain": [
       "torch.Size([1000, 1, 28, 28])"
      ]
     },
     "execution_count": 37,
     "metadata": {},
     "output_type": "execute_result"
    }
   ],
   "source": [
    "example_data.shape"
   ]
  },
  {
   "cell_type": "code",
   "execution_count": 38,
   "metadata": {},
   "outputs": [
    {
     "data": {
      "image/png": "[encoded data removed]",
      "text/plain": [
       "<Figure size 432x288 with 6 Axes>"
      ]
     },
     "execution_count": 38,
     "metadata": {},
     "output_type": "execute_result"
    },
    {
     "data": {
      "image/png": "[encoded data removed]",
      "text/plain": [
       "<Figure size 432x288 with 6 Axes>"
      ]
     },
     "metadata": {},
     "output_type": "display_data"
    }
   ],
   "source": [
    "import matplotlib.pyplot as plt\n",
    "\n",
    "fig = plt.figure()\n",
    "for i in range(6):\n",
    "  plt.subplot(2,3,i+1)\n",
    "  plt.tight_layout()\n",
    "  plt.imshow(example_data[i][0], cmap='gray', interpolation='none')\n",
    "  plt.title(\"Ground Truth: {}\".format(example_targets[i]))\n",
    "  plt.xticks([])\n",
    "  plt.yticks([])\n",
    "fig"
   ]
  },
  {
   "cell_type": "code",
   "execution_count": 39,
   "metadata": {},
   "outputs": [],
   "source": [
    "\n",
    "class Net(nn.Module):\n",
    "    #This defines the structure of the NN.\n",
    "    def __init__(self):\n",
    "        super(Net, self).__init__()\n",
    "        self.conv1 = nn.Conv2d(1, 10, kernel_size=5)\n",
    "        self.conv2 = nn.Conv2d(10, 20, kernel_size=5)\n",
    "        self.conv2_drop = nn.Dropout2d()  #Dropout\n",
    "        self.fc1 = nn.Linear(320, 50)\n",
    "        self.fc2 = nn.Linear(50, 10)\n",
    "\n",
    "    def forward(self, x):\n",
    "        #Convolutional Layer/Pooling Layer/Activation\n",
    "        x = F.relu(F.max_pool2d(self.conv1(x), 2)) \n",
    "        #Convolutional Layer/Dropout/Pooling Layer/Activation\n",
    "        x = F.relu(F.max_pool2d(self.conv2_drop(self.conv2(x)), 2))\n",
    "        x = x.view(-1, 320)\n",
    "        #Fully Connected Layer/Activation\n",
    "        x = F.relu(self.fc1(x))\n",
    "        x = F.dropout(x, training=self.training)\n",
    "        #Fully Connected Layer/Activation\n",
    "        x = self.fc2(x)\n",
    "        #Softmax gets probabilities. \n",
    "        return F.log_softmax(x, dim=1)"
   ]
  },
  {
   "cell_type": "code",
   "execution_count": 53,
   "metadata": {},
   "outputs": [],
   "source": [
    "train_losses = []\n",
    "train_counter = []\n",
    "test_losses = []\n",
    "test_counter = [i*len(train_loader.dataset) for i in range(10)]"
   ]
  },
  {
   "cell_type": "code",
   "execution_count": 54,
   "metadata": {},
   "outputs": [],
   "source": [
    "def train(epoch):\n",
    "    model.train()\n",
    "    for batch_idx, (data, target) in enumerate(train_loader):\n",
    "        if args['cuda']:\n",
    "            data, target = data.cuda(), target.cuda()\n",
    "        #Variables in Pytorch are differenciable. \n",
    "        data, target = Variable(data), Variable(target)\n",
    "        #This will zero out the gradients for this batch. \n",
    "        optimizer.zero_grad()\n",
    "        output = model(data)\n",
    "        # Calculate the loss The negative log likelihood loss. It is useful to train a classification problem with C classes.\n",
    "        loss = F.nll_loss(output, target)\n",
    "        #dloss/dx for every Variable \n",
    "        loss.backward()\n",
    "        #to do a one-step update on our parameter.\n",
    "        optimizer.step()\n",
    "        #Print out the loss periodically. \n",
    "        if batch_idx % args['log_interval'] == 0:\n",
    "            print('Train Epoch: {} [{}/{} ({:.0f}%)]\\tLoss: {:.6f}'.format(\n",
    "                epoch, batch_idx * len(data), len(train_loader.dataset),\n",
    "                100. * batch_idx / len(train_loader), loss.data.item()))\n",
    "    train_losses.append(loss.item())\n",
    "    train_counter.append(\n",
    "        (batch_idx*64) + ((epoch-1)*len(train_loader.dataset)))\n",
    "        \n",
    "def test():\n",
    "    model.eval()\n",
    "    test_loss = 0\n",
    "    correct = 0\n",
    "    for data, target in test_loader:\n",
    "        if args['cuda']:\n",
    "            data, target = data.cuda(), target.cuda()\n",
    "        data, target = Variable(data, volatile=True), Variable(target)\n",
    "        output = model(data)\n",
    "        test_loss += F.nll_loss(output, target, size_average=False).data.item() # sum up batch loss\n",
    "        pred = output.data.max(1, keepdim=True)[1] # get the index of the max log-probability\n",
    "        correct += pred.eq(target.data.view_as(pred)).long().cpu().sum()\n",
    "\n",
    "    test_loss /= len(test_loader.dataset)\n",
    "    test_losses.append(test_loss)\n",
    "    print('\\nTest set: Average loss: {:.4f}, Accuracy: {}/{} ({:.0f}%)\\n'.format(\n",
    "        test_loss, correct, len(test_loader.dataset),\n",
    "        100. * correct / len(test_loader.dataset)))"
   ]
  },
  {
   "cell_type": "code",
   "execution_count": 55,
   "metadata": {},
   "outputs": [
    {
     "name": "stdout",
     "output_type": "stream",
     "text": [
      "Train Epoch: 1 [0/60000 (0%)]\tLoss: 2.348254\n",
      "Train Epoch: 1 [10000/60000 (17%)]\tLoss: 2.305703\n",
      "Train Epoch: 1 [20000/60000 (33%)]\tLoss: 2.282516\n",
      "Train Epoch: 1 [30000/60000 (50%)]\tLoss: 2.280544\n",
      "Train Epoch: 1 [40000/60000 (67%)]\tLoss: 2.257468\n",
      "Train Epoch: 1 [50000/60000 (83%)]\tLoss: 2.242146\n"
     ]
    },
    {
     "name": "stderr",
     "output_type": "stream",
     "text": [
      "C:\\Users\\plk1544\\Anaconda3\\lib\\site-packages\\ipykernel_launcher.py:33: UserWarning: volatile was removed and now has no effect. Use `with torch.no_grad():` instead.\n",
      "C:\\Users\\plk1544\\Anaconda3\\lib\\site-packages\\torch\\nn\\_reduction.py:49: UserWarning: size_average and reduce args will be deprecated, please use reduction='sum' instead.\n",
      "  warnings.warn(warning.format(ret))\n"
     ]
    },
    {
     "name": "stdout",
     "output_type": "stream",
     "text": [
      "\n",
      "Test set: Average loss: 2.1875, Accuracy: 4841/10000 (48%)\n",
      "\n",
      "Train Epoch: 2 [0/60000 (0%)]\tLoss: 2.214809\n",
      "Train Epoch: 2 [10000/60000 (17%)]\tLoss: 2.189556\n",
      "Train Epoch: 2 [20000/60000 (33%)]\tLoss: 2.137943\n",
      "Train Epoch: 2 [30000/60000 (50%)]\tLoss: 2.080223\n",
      "Train Epoch: 2 [40000/60000 (67%)]\tLoss: 2.010799\n",
      "Train Epoch: 2 [50000/60000 (83%)]\tLoss: 1.901058\n",
      "\n",
      "Test set: Average loss: 1.5437, Accuracy: 7536/10000 (75%)\n",
      "\n",
      "Train Epoch: 3 [0/60000 (0%)]\tLoss: 1.762951\n",
      "Train Epoch: 3 [10000/60000 (17%)]\tLoss: 1.621582\n",
      "Train Epoch: 3 [20000/60000 (33%)]\tLoss: 1.509804\n",
      "Train Epoch: 3 [30000/60000 (50%)]\tLoss: 1.337913\n",
      "Train Epoch: 3 [40000/60000 (67%)]\tLoss: 1.269364\n",
      "Train Epoch: 3 [50000/60000 (83%)]\tLoss: 1.186102\n",
      "\n",
      "Test set: Average loss: 0.7175, Accuracy: 8563/10000 (85%)\n",
      "\n",
      "Train Epoch: 4 [0/60000 (0%)]\tLoss: 1.159729\n",
      "Train Epoch: 4 [10000/60000 (17%)]\tLoss: 1.046785\n",
      "Train Epoch: 4 [20000/60000 (33%)]\tLoss: 1.000885\n",
      "Train Epoch: 4 [30000/60000 (50%)]\tLoss: 0.998453\n",
      "Train Epoch: 4 [40000/60000 (67%)]\tLoss: 0.930994\n",
      "Train Epoch: 4 [50000/60000 (83%)]\tLoss: 0.916809\n",
      "\n",
      "Test set: Average loss: 0.4829, Accuracy: 8842/10000 (88%)\n",
      "\n",
      "Train Epoch: 5 [0/60000 (0%)]\tLoss: 0.852876\n",
      "Train Epoch: 5 [10000/60000 (17%)]\tLoss: 0.800908\n",
      "Train Epoch: 5 [20000/60000 (33%)]\tLoss: 0.808145\n",
      "Train Epoch: 5 [30000/60000 (50%)]\tLoss: 0.764099\n",
      "Train Epoch: 5 [40000/60000 (67%)]\tLoss: 0.801658\n",
      "Train Epoch: 5 [50000/60000 (83%)]\tLoss: 0.755448\n",
      "\n",
      "Test set: Average loss: 0.3933, Accuracy: 8993/10000 (89%)\n",
      "\n",
      "Train Epoch: 6 [0/60000 (0%)]\tLoss: 0.715049\n",
      "Train Epoch: 6 [10000/60000 (17%)]\tLoss: 0.736660\n",
      "Train Epoch: 6 [20000/60000 (33%)]\tLoss: 0.740808\n",
      "Train Epoch: 6 [30000/60000 (50%)]\tLoss: 0.665818\n",
      "Train Epoch: 6 [40000/60000 (67%)]\tLoss: 0.700872\n",
      "Train Epoch: 6 [50000/60000 (83%)]\tLoss: 0.676322\n",
      "\n",
      "Test set: Average loss: 0.3392, Accuracy: 9094/10000 (90%)\n",
      "\n",
      "Train Epoch: 7 [0/60000 (0%)]\tLoss: 0.665838\n",
      "Train Epoch: 7 [10000/60000 (17%)]\tLoss: 0.624869\n",
      "Train Epoch: 7 [20000/60000 (33%)]\tLoss: 0.576238\n",
      "Train Epoch: 7 [30000/60000 (50%)]\tLoss: 0.669424\n",
      "Train Epoch: 7 [40000/60000 (67%)]\tLoss: 0.578305\n",
      "Train Epoch: 7 [50000/60000 (83%)]\tLoss: 0.670948\n",
      "\n",
      "Test set: Average loss: 0.3022, Accuracy: 9185/10000 (91%)\n",
      "\n",
      "Train Epoch: 8 [0/60000 (0%)]\tLoss: 0.601488\n",
      "Train Epoch: 8 [10000/60000 (17%)]\tLoss: 0.597618\n",
      "Train Epoch: 8 [20000/60000 (33%)]\tLoss: 0.548165\n",
      "Train Epoch: 8 [30000/60000 (50%)]\tLoss: 0.596334\n",
      "Train Epoch: 8 [40000/60000 (67%)]\tLoss: 0.609208\n",
      "Train Epoch: 8 [50000/60000 (83%)]\tLoss: 0.563703\n",
      "\n",
      "Test set: Average loss: 0.2753, Accuracy: 9256/10000 (92%)\n",
      "\n",
      "Train Epoch: 9 [0/60000 (0%)]\tLoss: 0.568244\n",
      "Train Epoch: 9 [10000/60000 (17%)]\tLoss: 0.590847\n",
      "Train Epoch: 9 [20000/60000 (33%)]\tLoss: 0.524567\n",
      "Train Epoch: 9 [30000/60000 (50%)]\tLoss: 0.498574\n",
      "Train Epoch: 9 [40000/60000 (67%)]\tLoss: 0.531253\n",
      "Train Epoch: 9 [50000/60000 (83%)]\tLoss: 0.523747\n",
      "\n",
      "Test set: Average loss: 0.2556, Accuracy: 9300/10000 (93%)\n",
      "\n",
      "Train Epoch: 10 [0/60000 (0%)]\tLoss: 0.574891\n",
      "Train Epoch: 10 [10000/60000 (17%)]\tLoss: 0.470509\n",
      "Train Epoch: 10 [20000/60000 (33%)]\tLoss: 0.574841\n",
      "Train Epoch: 10 [30000/60000 (50%)]\tLoss: 0.534987\n",
      "Train Epoch: 10 [40000/60000 (67%)]\tLoss: 0.500947\n",
      "Train Epoch: 10 [50000/60000 (83%)]\tLoss: 0.518625\n",
      "\n",
      "Test set: Average loss: 0.2371, Accuracy: 9343/10000 (93%)\n",
      "\n"
     ]
    }
   ],
   "source": [
    "model = Net()\n",
    "if args['cuda']:\n",
    "    model.cuda()\n",
    "\n",
    "optimizer = optim.SGD(model.parameters(), lr=args['lr'], momentum=args['momentum'])\n",
    "\n",
    "for epoch in range(1, args['epochs'] + 1):\n",
    "    train(epoch)\n",
    "    test()"
   ]
  },
  {
   "cell_type": "code",
   "execution_count": 56,
   "metadata": {},
   "outputs": [
    {
     "data": {
      "image/png": "[encoded data removed]",
      "text/plain": [
       "<Figure size 432x288 with 1 Axes>"
      ]
     },
     "execution_count": 56,
     "metadata": {},
     "output_type": "execute_result"
    },
    {
     "data": {
      "image/png": "[encoded data removed]",
      "text/plain": [
       "<Figure size 432x288 with 1 Axes>"
      ]
     },
     "metadata": {},
     "output_type": "display_data"
    }
   ],
   "source": [
    "fig = plt.figure()\n",
    "plt.plot(train_counter, train_losses, color='blue')\n",
    "plt.scatter(test_counter, test_losses, color='red')\n",
    "plt.legend(['Train Loss', 'Test Loss'], loc='upper right')\n",
    "plt.xlabel('number of training examples seen')\n",
    "plt.ylabel('negative log likelihood loss')\n",
    "fig"
   ]
  },
  {
   "cell_type": "code",
   "execution_count": null,
   "metadata": {},
   "outputs": [],
   "source": []
  }
 ],
 "metadata": {
  "kernelspec": {
   "display_name": "Python 3",
   "language": "python",
   "name": "python3"
  },
  "language_info": {
   "codemirror_mode": {
    "name": "ipython",
    "version": 3
   },
   "file_extension": ".py",
   "mimetype": "text/x-python",
   "name": "python",
   "nbconvert_exporter": "python",
   "pygments_lexer": "ipython3",
   "version": "3.6.5"
  }
 },
 "nbformat": 4,
 "nbformat_minor": 2
}
